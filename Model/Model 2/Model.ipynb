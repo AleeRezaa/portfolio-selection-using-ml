{
 "cells": [
  {
   "cell_type": "code",
   "execution_count": 51,
   "metadata": {},
   "outputs": [],
   "source": [
    "# https://www.relataly.com/crypto-market-cluster-analysis-using-affinity-propagation-python/8114/"
   ]
  },
  {
   "cell_type": "code",
   "execution_count": 52,
   "metadata": {},
   "outputs": [],
   "source": [
    "# ! pip install cryptocmd\n",
    "# ! pip install seaborn"
   ]
  },
  {
   "cell_type": "code",
   "execution_count": 53,
   "metadata": {},
   "outputs": [],
   "source": [
    "from cryptocmd import CmcScraper\n",
    "import pandas as pd \n",
    "import matplotlib.pyplot as plt \n",
    "import numpy as np \n",
    "import seaborn as sns\n",
    "from sklearn import cluster, covariance, manifold\n",
    "import requests\n",
    "import json"
   ]
  },
  {
   "cell_type": "code",
   "execution_count": 54,
   "metadata": {},
   "outputs": [],
   "source": [
    "NUMBER_OF_CRYPTOCURRENCIES = 500\n",
    "TIMEOUT = 10  # seconds\n",
    "\n",
    "UPDATE_BASIC_DATA = False\n",
    "UPDATE_HISTORICAL_DATA = False"
   ]
  },
  {
   "cell_type": "code",
   "execution_count": 55,
   "metadata": {},
   "outputs": [],
   "source": [
    "def createBasicData():\n",
    "\n",
    "    # get basic data\n",
    "    print('Fetching basic data...')\n",
    "    url = f'https://api.coinmarketcap.com/data-api/v3/cryptocurrency/listing?start=1&limit={NUMBER_OF_CRYPTOCURRENCIES}&sortBy=market_cap&sortType=desc&convert=USD&cryptoType=all&tagType=all&audited=false'\n",
    "    response = requests.get(url, timeout = TIMEOUT)\n",
    "    data = json.loads(response.text)\n",
    "    basicData = pd.DataFrame(data['data']['cryptoCurrencyList'])\n",
    "\n",
    "    # clean basic data\n",
    "    basicData = basicData[\n",
    "        (basicData['isActive'] == 1) & \n",
    "        (basicData['dateAdded'].apply(lambda x: int(x[:4])) < 2021) & \n",
    "        (basicData['lastUpdated'].apply(lambda x: int(x[:4])) > 2022) &\n",
    "        (basicData['tags'].apply(lambda x: 'stablecoin' not in x)) &\n",
    "        (basicData['marketPairCount'] > 5)\n",
    "    ]\n",
    "\n",
    "    # export basic data\n",
    "    basicData.to_csv('./data/basic_data.csv')\n",
    "\n",
    "    # return basic data\n",
    "    print('Basic data fetched.')\n",
    "    basicData.reset_index(drop = True, inplace = True)\n",
    "    return basicData\n",
    "\n",
    "def importBasicData():\n",
    "\n",
    "    # import basic data\n",
    "    basicData = pd.read_csv('./data/basic_data.csv')\n",
    "    basicData = basicData.iloc[: , 1:]\n",
    "    \n",
    "    # return basic data\n",
    "    basicData.reset_index(drop = True, inplace = True)\n",
    "    return basicData"
   ]
  },
  {
   "cell_type": "code",
   "execution_count": 56,
   "metadata": {},
   "outputs": [],
   "source": [
    "def createHistoricalData(basicData):\n",
    "\n",
    "    # create symbols list and historical data dataframe\n",
    "    symbols = basicData['symbol'].to_list()\n",
    "    historicalData = pd.DataFrame()\n",
    "    n = 0\n",
    "    numberOfSymbols = len(symbols)\n",
    "\n",
    "    # loop in symbols and get historical data\n",
    "    for symbol in symbols:\n",
    "\n",
    "        if ',' in symbol:\n",
    "            symbol = symbol.split(',')[0]\n",
    "\n",
    "        n += 1\n",
    "        print(f'Fetching historical data for {symbol} ({n}/{numberOfSymbols})')\n",
    "        scraper = CmcScraper(symbol)\n",
    "\n",
    "        try:\n",
    "            symbolHistoricalData = scraper.get_dataframe()\n",
    "        except:\n",
    "            print(f'Error in fetching historical data for {symbol}')\n",
    "            continue\n",
    "\n",
    "        symbolHistoricalData.columns = ['date', 'open', 'high', 'low', 'close', 'volume', 'marketcap']\n",
    "        symbolHistoricalData.insert(0, 'symbol', symbol)\n",
    "        symbolHistoricalData.insert(6, 'avg', (symbolHistoricalData['open'] + symbolHistoricalData['close']) / 2)\n",
    "        symbolHistoricalData.insert(7, 'change', (symbolHistoricalData['open'] - symbolHistoricalData['close']) / symbolHistoricalData['open'])\n",
    "\n",
    "        historicalData = pd.concat([historicalData, symbolHistoricalData])\n",
    "\n",
    "    # export historical data\n",
    "    historicalData.to_csv('./data/historical_data.csv')\n",
    "\n",
    "    # return historical data\n",
    "    print('Historical data fetched.')\n",
    "    historicalData.reset_index(drop = True, inplace = True)\n",
    "    return historicalData\n",
    "\n",
    "def importHistoricalData():\n",
    "\n",
    "    # import historical data\n",
    "    historicalData = pd.read_csv('./data/historical_data.csv')\n",
    "    historicalData = historicalData.iloc[: , 1:]\n",
    "\n",
    "    # return historical data\n",
    "    historicalData.reset_index(drop = True, inplace = True)\n",
    "    return historicalData"
   ]
  },
  {
   "cell_type": "code",
   "execution_count": 57,
   "metadata": {},
   "outputs": [],
   "source": [
    "if UPDATE_BASIC_DATA:\n",
    "    basicData = createBasicData()\n",
    "else:\n",
    "    try:\n",
    "        basicData = importBasicData()\n",
    "    except FileNotFoundError:\n",
    "        basicData = createBasicData()\n",
    "\n",
    "if UPDATE_HISTORICAL_DATA:\n",
    "    historicalData = createHistoricalData(basicData)\n",
    "else:\n",
    "    try:\n",
    "        historicalData = importHistoricalData()\n",
    "    except FileNotFoundError:\n",
    "        historicalData = createHistoricalData(basicData)"
   ]
  }
 ],
 "metadata": {
  "kernelspec": {
   "display_name": "Python 3",
   "language": "python",
   "name": "python3"
  },
  "language_info": {
   "codemirror_mode": {
    "name": "ipython",
    "version": 3
   },
   "file_extension": ".py",
   "mimetype": "text/x-python",
   "name": "python",
   "nbconvert_exporter": "python",
   "pygments_lexer": "ipython3",
   "version": "3.10.7"
  },
  "orig_nbformat": 4
 },
 "nbformat": 4,
 "nbformat_minor": 2
}
