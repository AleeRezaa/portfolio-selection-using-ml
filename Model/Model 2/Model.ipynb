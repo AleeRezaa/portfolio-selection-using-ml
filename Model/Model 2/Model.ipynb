{
 "cells": [
  {
   "cell_type": "code",
   "execution_count": 1,
   "metadata": {},
   "outputs": [],
   "source": [
    "# https://www.relataly.com/crypto-market-cluster-analysis-using-affinity-propagation-python/8114/"
   ]
  },
  {
   "cell_type": "code",
   "execution_count": 2,
   "metadata": {},
   "outputs": [],
   "source": [
    "# ! pip install cryptocmd\n",
    "# ! pip install seaborn"
   ]
  },
  {
   "cell_type": "code",
   "execution_count": 3,
   "metadata": {},
   "outputs": [],
   "source": [
    "from cryptocmd import CmcScraper\n",
    "import pandas as pd \n",
    "import matplotlib.pyplot as plt \n",
    "import numpy as np \n",
    "import seaborn as sns\n",
    "from sklearn import cluster, covariance, manifold\n",
    "import requests\n",
    "import json"
   ]
  },
  {
   "cell_type": "code",
   "execution_count": 4,
   "metadata": {},
   "outputs": [],
   "source": [
    "NUMBER_OF_CRYPTOCURRENCIES = 500\n",
    "TIMEOUT = 10 # seconds"
   ]
  },
  {
   "cell_type": "code",
   "execution_count": 13,
   "metadata": {},
   "outputs": [],
   "source": [
    "def createBasicData():\n",
    "\n",
    "    # get data\n",
    "    url = f'https://api.coinmarketcap.com/data-api/v3/cryptocurrency/listing?start=1&limit={NUMBER_OF_CRYPTOCURRENCIES}&sortBy=market_cap&sortType=desc&convert=USD&cryptoType=all&tagType=all&audited=false'\n",
    "    response = requests.get(url, timeout = TIMEOUT)\n",
    "    data = json.loads(response.text)\n",
    "    basicData = pd.DataFrame(data['data']['cryptoCurrencyList'])\n",
    "\n",
    "    # filter data\n",
    "    basicData = basicData[\n",
    "        (basicData['isActive'] == 1) & \n",
    "        (basicData['dateAdded'].apply(lambda x: int(x[:4])) < 2021) & \n",
    "        (basicData['lastUpdated'].apply(lambda x: int(x[:4])) > 2022) &\n",
    "        (basicData['tags'].apply(lambda x: 'stablecoin' not in x)) &\n",
    "        (basicData['marketPairCount'] > 5)\n",
    "    ]\n",
    "\n",
    "    # export data\n",
    "    basicData.to_csv('./data/basic_data.csv')\n",
    "\n",
    "    # return data\n",
    "    return basicData"
   ]
  },
  {
   "cell_type": "code",
   "execution_count": 12,
   "metadata": {},
   "outputs": [],
   "source": [
    "def importBasicData():\n",
    "\n",
    "    # import data\n",
    "    basicData = pd.read_csv('./data/basic_data.csv')\n",
    "    \n",
    "    # return data\n",
    "    return basicData"
   ]
  },
  {
   "cell_type": "code",
   "execution_count": null,
   "metadata": {},
   "outputs": [],
   "source": [
    "# To update data, delete the old file from the directory.\n",
    "\n",
    "try:\n",
    "    basicData = importBasicData()\n",
    "except FileNotFoundError:\n",
    "    basicData = createBasicData()"
   ]
  }
 ],
 "metadata": {
  "kernelspec": {
   "display_name": "Python 3",
   "language": "python",
   "name": "python3"
  },
  "language_info": {
   "codemirror_mode": {
    "name": "ipython",
    "version": 3
   },
   "file_extension": ".py",
   "mimetype": "text/x-python",
   "name": "python",
   "nbconvert_exporter": "python",
   "pygments_lexer": "ipython3",
   "version": "3.10.7"
  },
  "orig_nbformat": 4
 },
 "nbformat": 4,
 "nbformat_minor": 2
}
